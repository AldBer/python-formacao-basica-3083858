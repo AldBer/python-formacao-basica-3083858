{
 "cells": [
  {
   "cell_type": "markdown",
   "metadata": {},
   "source": [
    "- Crie uma classe com 3 atributos"
   ]
  },
  {
   "cell_type": "markdown",
   "metadata": {},
   "source": [
    "- Defina um método para a classe"
   ]
  },
  {
   "cell_type": "markdown",
   "metadata": {},
   "source": [
    "- Instancie a classe"
   ]
  },
  {
   "cell_type": "markdown",
   "metadata": {},
   "source": [
    "- Execute o método"
   ]
  },
  {
   "cell_type": "code",
   "execution_count": 1,
   "metadata": {},
   "outputs": [
    {
     "name": "stdout",
     "output_type": "stream",
     "text": [
      "Olá! Meu nome é Aldo, tenho 45 anos e sou Programador.\n"
     ]
    }
   ],
   "source": [
    "class Pessoa:\n",
    "    def __init__(self, nome, idade, profissao):\n",
    "        self.nome = nome          # Atributo 1\n",
    "        self.idade = idade        # Atributo 2\n",
    "        self.profissao = profissao  # Atributo 3\n",
    "\n",
    "    def apresentar(self):  # Método da classe\n",
    "        print(f\"Olá! Meu nome é {self.nome}, tenho {self.idade} anos e sou {self.profissao}.\")\n",
    "\n",
    "# Instanciando a classe Criando um objeto \"pessoa1\"\n",
    "pessoa1 = Pessoa(nome=\"Aldo\", idade=45, profissao=\"Programador\")\n",
    "\n",
    "# Chamando o método\n",
    "pessoa1.apresentar()"
   ]
  }
 ],
 "metadata": {
  "kernelspec": {
   "display_name": "Python 3",
   "language": "python",
   "name": "python3"
  },
  "language_info": {
   "codemirror_mode": {
    "name": "ipython",
    "version": 3
   },
   "file_extension": ".py",
   "mimetype": "text/x-python",
   "name": "python",
   "nbconvert_exporter": "python",
   "pygments_lexer": "ipython3",
   "version": "3.13.3"
  },
  "orig_nbformat": 4
 },
 "nbformat": 4,
 "nbformat_minor": 2
}
