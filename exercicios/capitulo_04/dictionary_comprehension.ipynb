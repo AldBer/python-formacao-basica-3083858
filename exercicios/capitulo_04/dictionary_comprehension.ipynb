{
 "cells": [
  {
   "attachments": {},
   "cell_type": "markdown",
   "metadata": {},
   "source": [
    "- Crie uma lista\n"
   ]
  },
  {
   "cell_type": "code",
   "execution_count": 31,
   "metadata": {},
   "outputs": [],
   "source": [
    "desktop_lista = ['caneta','laptop','mouse','caderno','teclado']"
   ]
  },
  {
   "cell_type": "code",
   "execution_count": 32,
   "metadata": {},
   "outputs": [
    {
     "name": "stdout",
     "output_type": "stream",
     "text": [
      "['caneta', 'laptop', 'mouse', 'caderno', 'teclado']\n"
     ]
    }
   ],
   "source": [
    "print(desktop_lista)"
   ]
  },
  {
   "attachments": {},
   "cell_type": "markdown",
   "metadata": {},
   "source": [
    "- Usando o recurso dictionary comprehension, crie um dicionário cuja a chave é o comprimento do item e o valor, o próprio item da lista.\n"
   ]
  },
  {
   "cell_type": "code",
   "execution_count": 33,
   "metadata": {},
   "outputs": [],
   "source": [
    "desktop_dic = {f'{len(item)}-{item[0]}': item for item in desktop_lista}"
   ]
  },
  {
   "cell_type": "code",
   "execution_count": 34,
   "metadata": {},
   "outputs": [
    {
     "data": {
      "text/plain": [
       "{'6-c': 'caneta',\n",
       " '6-l': 'laptop',\n",
       " '5-m': 'mouse',\n",
       " '7-c': 'caderno',\n",
       " '7-t': 'teclado'}"
      ]
     },
     "execution_count": 34,
     "metadata": {},
     "output_type": "execute_result"
    }
   ],
   "source": [
    "desktop_dic"
   ]
  },
  {
   "attachments": {},
   "cell_type": "markdown",
   "metadata": {},
   "source": [
    "- Crie uma lista de tuplas\n"
   ]
  },
  {
   "cell_type": "code",
   "execution_count": 35,
   "metadata": {},
   "outputs": [
    {
     "data": {
      "text/plain": [
       "'ar'"
      ]
     },
     "execution_count": 35,
     "metadata": {},
     "output_type": "execute_result"
    }
   ],
   "source": [
    "x, y, z = ('ar','fumaca','veneno')\n",
    "x"
   ]
  },
  {
   "attachments": {},
   "cell_type": "markdown",
   "metadata": {},
   "source": [
    "- Usando o recurso dictionary comprehension, crie um dicionário cuja a chave é o primeiro item da tupla e o valor, o segundo\n"
   ]
  },
  {
   "cell_type": "code",
   "execution_count": 36,
   "metadata": {},
   "outputs": [
    {
     "name": "stdout",
     "output_type": "stream",
     "text": [
      "caneta----laptop\n"
     ]
    }
   ],
   "source": [
    "tupla = [('caneta','laptop')]\n",
    "for a,b in tupla:\n",
    "    print(f'{a}----{b}')"
   ]
  },
  {
   "cell_type": "code",
   "execution_count": 37,
   "metadata": {},
   "outputs": [
    {
     "name": "stdout",
     "output_type": "stream",
     "text": [
      "('ar', 'fumaca', 'veneno')\n"
     ]
    }
   ],
   "source": [
    "tupla_S = x, y, z\n",
    "print(tupla_S)"
   ]
  },
  {
   "cell_type": "code",
   "execution_count": 38,
   "metadata": {},
   "outputs": [],
   "source": [
    "tuppla_X = [('teia','mosca'),('toca','tatu'),('arvore','folha')]"
   ]
  },
  {
   "cell_type": "code",
   "execution_count": 39,
   "metadata": {},
   "outputs": [
    {
     "name": "stdout",
     "output_type": "stream",
     "text": [
      "{'teia': 'mosca', 'toca': 'tatu', 'arvore': 'folha'}\n"
     ]
    }
   ],
   "source": [
    "dic_tupla_S = {chave:valor for (chave,valor) in tuppla_X}\n",
    "print(dic_tupla_S)"
   ]
  },
  {
   "attachments": {},
   "cell_type": "markdown",
   "metadata": {},
   "source": [
    "- Crie um dicionário\n"
   ]
  },
  {
   "cell_type": "code",
   "execution_count": 40,
   "metadata": {},
   "outputs": [
    {
     "name": "stdout",
     "output_type": "stream",
     "text": [
      "{'menino': 'gael', 'menina': 'maju', 'pet': 'marchal'}\n"
     ]
    }
   ],
   "source": [
    "dic_ex = {'menino':'gael', 'menina':'maju','pet':'marchal'}\n",
    "print(dic_ex)"
   ]
  },
  {
   "attachments": {},
   "cell_type": "markdown",
   "metadata": {},
   "source": [
    "- Usando o recurso dictionary comprehension, crie um novo dicionário cuja a chave é uma maniputação do valor\n"
   ]
  },
  {
   "cell_type": "code",
   "execution_count": 41,
   "metadata": {},
   "outputs": [
    {
     "name": "stdout",
     "output_type": "stream",
     "text": [
      "{'E': 'gael', 'J': 'maju', 'R': 'marchal'}\n"
     ]
    }
   ],
   "source": [
    "dic_ex2 = {(valor[2].upper()):valor for (chave,valor) in dic_ex.items()}\n",
    "print(dic_ex2)"
   ]
  },
  {
   "attachments": {},
   "cell_type": "markdown",
   "metadata": {},
   "source": [
    "- Usando o recurso dictionary comprehension, crie um dicionário só com chaves com commprimento menor ou igual a 3\n"
   ]
  },
  {
   "cell_type": "code",
   "execution_count": 45,
   "metadata": {},
   "outputs": [
    {
     "name": "stdout",
     "output_type": "stream",
     "text": [
      "{'pet': 'marchal'}\n"
     ]
    }
   ],
   "source": [
    "dic_ex3 = {chave: valor for (chave,valor) in dic_ex.items() if len(chave) <= 3} #a atenção aos detalhes, como ':' e ',' faz a diferenção do que pode estar ou não errado no seu codigo.\n",
    "print(dic_ex3)"
   ]
  }
 ],
 "metadata": {
  "kernelspec": {
   "display_name": "Python 3",
   "language": "python",
   "name": "python3"
  },
  "language_info": {
   "codemirror_mode": {
    "name": "ipython",
    "version": 3
   },
   "file_extension": ".py",
   "mimetype": "text/x-python",
   "name": "python",
   "nbconvert_exporter": "python",
   "pygments_lexer": "ipython3",
   "version": "3.13.3"
  },
  "orig_nbformat": 4,
  "vscode": {
   "interpreter": {
    "hash": "916dbcbb3f70747c44a77c7bcd40155683ae19c65e1c03b4aa3499c5328201f1"
   }
  }
 },
 "nbformat": 4,
 "nbformat_minor": 2
}
