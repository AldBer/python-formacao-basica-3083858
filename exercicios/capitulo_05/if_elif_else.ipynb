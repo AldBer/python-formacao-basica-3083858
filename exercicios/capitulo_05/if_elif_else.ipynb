{
 "cells": [
  {
   "attachments": {},
   "cell_type": "markdown",
   "metadata": {},
   "source": [
    "- Crie uma lista com 30 dados do tipo numérico\n"
   ]
  },
  {
   "cell_type": "code",
   "execution_count": 30,
   "metadata": {},
   "outputs": [
    {
     "name": "stdout",
     "output_type": "stream",
     "text": [
      "[0, 3, 6, 9, 12, 15, 18, 21, 24, 27, 30]\n"
     ]
    }
   ],
   "source": [
    "lista_30 = list(range(0,31,3))\n",
    "print(lista_30)"
   ]
  },
  {
   "attachments": {},
   "cell_type": "markdown",
   "metadata": {},
   "source": [
    "- Dentro de um for loop, crie uma estrutura condicional que imprima na tela o número, caso ele seja maior do que 20. Se o número for 20, imprima 'Esse número é igual a 20.’ e se for maior do que 20, imprima ‘Esse número é maior do que 20.’\n"
   ]
  },
  {
   "cell_type": "code",
   "execution_count": 31,
   "metadata": {},
   "outputs": [
    {
     "name": "stdout",
     "output_type": "stream",
     "text": [
      "0 é menor ou igual a 20\n",
      "3 é menor ou igual a 20\n",
      "6 é menor ou igual a 20\n",
      "9 é menor ou igual a 20\n",
      "12 é menor ou igual a 20\n",
      "15 é menor ou igual a 20\n",
      "18 é menor ou igual a 20\n",
      "21 é maior que 20\n",
      "24 é maior que 20\n",
      "27 é maior que 20\n",
      "30 é maior que 20\n"
     ]
    }
   ],
   "source": [
    "for numero in lista_30:\n",
    "    if numero <= 20:\n",
    "        print(f\"{numero} é menor ou igual a 20\")\n",
    "    else:\n",
    "        print(f\"{numero} é maior que 20\")"
   ]
  },
  {
   "attachments": {},
   "cell_type": "markdown",
   "metadata": {},
   "source": [
    "- Crie as seguintes variáveis contendo listas vazias: ate_12, entre_13_e_20, maior_21"
   ]
  },
  {
   "cell_type": "code",
   "execution_count": 29,
   "metadata": {},
   "outputs": [],
   "source": [
    "ate_12 = []\n",
    "entre_13e20 = []\n",
    "maior_21 = []"
   ]
  },
  {
   "attachments": {},
   "cell_type": "markdown",
   "metadata": {},
   "source": [
    "- Dentro de um for loop, crie uma estrutura condicional que distribua em cada lista os números seguindo as condições abaixo: \n",
    "1. se o número for menor do que 12, armazene-o na lista ate_12\n",
    "2. se o número estiver entre 13 e 20, amazene-o na lista entre_13_e_20\n",
    "3. se o número for maior do 21, armazene-o na lista maior_21\n",
    "\n"
   ]
  },
  {
   "cell_type": "code",
   "execution_count": 32,
   "metadata": {},
   "outputs": [
    {
     "name": "stdout",
     "output_type": "stream",
     "text": [
      "Crianças até 12 anos: [0, 3, 6, 9, 12]\n",
      "Adolescente até 20 anos: [15, 18]\n",
      "Jovem adulto maior que 21 anos: [21, 24, 27, 30]\n"
     ]
    }
   ],
   "source": [
    "for idade in lista_30:\n",
    "    if idade <= 12:\n",
    "        ate_12.append(idade)\n",
    "    elif 13 <= idade <= 20:\n",
    "        entre_13e20.append(idade)\n",
    "    else:\n",
    "        maior_21.append(idade)\n",
    "print(f\"Crianças até 12 anos: {ate_12}\")\n",
    "print(f\"Adolescente até 20 anos: {entre_13e20}\")\n",
    "print(f\"Jovem adulto maior que 21 anos: {maior_21}\")"
   ]
  }
 ],
 "metadata": {
  "kernelspec": {
   "display_name": "Python 3",
   "language": "python",
   "name": "python3"
  },
  "language_info": {
   "codemirror_mode": {
    "name": "ipython",
    "version": 3
   },
   "file_extension": ".py",
   "mimetype": "text/x-python",
   "name": "python",
   "nbconvert_exporter": "python",
   "pygments_lexer": "ipython3",
   "version": "3.13.3"
  },
  "orig_nbformat": 4,
  "vscode": {
   "interpreter": {
    "hash": "916dbcbb3f70747c44a77c7bcd40155683ae19c65e1c03b4aa3499c5328201f1"
   }
  }
 },
 "nbformat": 4,
 "nbformat_minor": 2
}
