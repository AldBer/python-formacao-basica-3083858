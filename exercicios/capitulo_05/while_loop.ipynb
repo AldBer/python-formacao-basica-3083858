{
 "cells": [
  {
   "attachments": {},
   "cell_type": "markdown",
   "metadata": {},
   "source": [
    "- Crie um while loop que imprima números de 0 a 5\n"
   ]
  },
  {
   "cell_type": "code",
   "execution_count": 10,
   "metadata": {},
   "outputs": [],
   "source": [
    "cond_atual = 0\n",
    "cond_final = 5"
   ]
  },
  {
   "cell_type": "code",
   "execution_count": 11,
   "metadata": {},
   "outputs": [
    {
     "name": "stdout",
     "output_type": "stream",
     "text": [
      "Sua condição atual é: 0\n",
      "Sua condição atual é: 1\n",
      "Sua condição atual é: 2\n",
      "Sua condição atual é: 3\n",
      "Sua condição atual é: 4\n",
      "Sua condição atual é: 5\n"
     ]
    }
   ],
   "source": [
    "while cond_atual <= cond_final:\n",
    "    print('Sua condição atual é:', cond_atual)\n",
    "    cond_atual += 1"
   ]
  },
  {
   "attachments": {},
   "cell_type": "markdown",
   "metadata": {},
   "source": [
    "- Crie um while loop com else"
   ]
  },
  {
   "cell_type": "code",
   "execution_count": 12,
   "metadata": {},
   "outputs": [
    {
     "name": "stdout",
     "output_type": "stream",
     "text": [
      "Voce atingiu o final da condição!\n"
     ]
    }
   ],
   "source": [
    "while cond_atual <= cond_final:\n",
    "    print('Sua condição atual é:', cond_atual)\n",
    "    cond_atual += 1\n",
    "else:\n",
    "    print('Voce atingiu o final da condição!')"
   ]
  }
 ],
 "metadata": {
  "kernelspec": {
   "display_name": "Python 3",
   "language": "python",
   "name": "python3"
  },
  "language_info": {
   "codemirror_mode": {
    "name": "ipython",
    "version": 3
   },
   "file_extension": ".py",
   "mimetype": "text/x-python",
   "name": "python",
   "nbconvert_exporter": "python",
   "pygments_lexer": "ipython3",
   "version": "3.13.3"
  },
  "orig_nbformat": 4,
  "vscode": {
   "interpreter": {
    "hash": "916dbcbb3f70747c44a77c7bcd40155683ae19c65e1c03b4aa3499c5328201f1"
   }
  }
 },
 "nbformat": 4,
 "nbformat_minor": 2
}
