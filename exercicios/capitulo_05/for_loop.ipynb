{
 "cells": [
  {
   "attachments": {},
   "cell_type": "markdown",
   "metadata": {},
   "source": [
    "- Crie uma lista\n"
   ]
  },
  {
   "cell_type": "code",
   "execution_count": 17,
   "metadata": {},
   "outputs": [],
   "source": [
    "lista = [8, 12, 35, 37, 45, 76, 89]"
   ]
  },
  {
   "attachments": {},
   "cell_type": "markdown",
   "metadata": {},
   "source": [
    "- Crie um for loop para imprimir na tela todos os elementos da lista\n"
   ]
  },
  {
   "cell_type": "code",
   "execution_count": 18,
   "metadata": {},
   "outputs": [
    {
     "name": "stdout",
     "output_type": "stream",
     "text": [
      "8\n",
      "12\n",
      "35\n",
      "37\n",
      "45\n",
      "76\n",
      "89\n"
     ]
    }
   ],
   "source": [
    "for numero in lista:\n",
    "    print(numero)"
   ]
  },
  {
   "attachments": {},
   "cell_type": "markdown",
   "metadata": {},
   "source": [
    "- Crie um for loop usando o recurso \"continue\"\n"
   ]
  },
  {
   "cell_type": "code",
   "execution_count": 15,
   "metadata": {},
   "outputs": [
    {
     "name": "stdout",
     "output_type": "stream",
     "text": [
      "Esse numero é par.\n",
      "8\n",
      "Estamos no else.\n",
      "35\n",
      "Estamos no else.\n",
      "37\n",
      "Esse numero é par.\n",
      "76\n",
      "Estamos no else.\n",
      "89\n"
     ]
    }
   ],
   "source": [
    "for numero in lista:\n",
    "    if numero % 3 == 0:\n",
    "        continue\n",
    "    elif numero % 2 == 0:\n",
    "        print('Esse numero é par.')\n",
    "    else:\n",
    "        print('Estamos no else.')\n",
    "    print(numero)"
   ]
  },
  {
   "attachments": {},
   "cell_type": "markdown",
   "metadata": {},
   "source": [
    "- Crie um for loop usando o recurso \"break\"\n"
   ]
  },
  {
   "cell_type": "code",
   "execution_count": 19,
   "metadata": {},
   "outputs": [
    {
     "name": "stdout",
     "output_type": "stream",
     "text": [
      "Esse numero é par.\n",
      "8\n",
      "Esse numero é divisivel por 3. 12\n"
     ]
    }
   ],
   "source": [
    "for numero in lista:\n",
    "    if numero % 3 == 0:\n",
    "        print('Esse numero é divisivel por 3.', numero)\n",
    "        break\n",
    "    elif numero % 2 == 0:\n",
    "        print('Esse numero é par.')\n",
    "    else:\n",
    "        print('Estamos no else.')\n",
    "    print(numero)"
   ]
  },
  {
   "attachments": {},
   "cell_type": "markdown",
   "metadata": {},
   "source": [
    "- Crie um for loop usando o \"else\"\n"
   ]
  },
  {
   "cell_type": "code",
   "execution_count": 20,
   "metadata": {},
   "outputs": [
    {
     "name": "stdout",
     "output_type": "stream",
     "text": [
      "Esse numero é par.\n",
      "8\n",
      "Esse numeor é divisivel por 3. 12\n",
      "12\n",
      "35\n",
      "37\n",
      "Esse numeor é divisivel por 3. 45\n",
      "45\n",
      "Esse numero é par.\n",
      "76\n",
      "89\n",
      "Aqui acaba o loop.\n"
     ]
    }
   ],
   "source": [
    "for numero in lista:\n",
    "    if numero % 3 == 0:\n",
    "        print('Esse numeor é divisivel por 3.', numero)\n",
    "    elif numero % 2 == 0:\n",
    "        print('Esse numero é par.')\n",
    "    print(numero)\n",
    "else:\n",
    "    print('Aqui acaba o loop.')\n",
    "    "
   ]
  }
 ],
 "metadata": {
  "kernelspec": {
   "display_name": "Python 3",
   "language": "python",
   "name": "python3"
  },
  "language_info": {
   "codemirror_mode": {
    "name": "ipython",
    "version": 3
   },
   "file_extension": ".py",
   "mimetype": "text/x-python",
   "name": "python",
   "nbconvert_exporter": "python",
   "pygments_lexer": "ipython3",
   "version": "3.13.3"
  },
  "orig_nbformat": 4,
  "vscode": {
   "interpreter": {
    "hash": "916dbcbb3f70747c44a77c7bcd40155683ae19c65e1c03b4aa3499c5328201f1"
   }
  }
 },
 "nbformat": 4,
 "nbformat_minor": 2
}
