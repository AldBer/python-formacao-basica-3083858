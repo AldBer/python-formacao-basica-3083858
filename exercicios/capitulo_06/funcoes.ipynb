{
 "cells": [
  {
   "attachments": {},
   "cell_type": "markdown",
   "metadata": {},
   "source": [
    "- Crie uma função que receba como argumento 2 números e 1 operação matemática\n"
   ]
  },
  {
   "attachments": {},
   "cell_type": "markdown",
   "metadata": {},
   "source": [
    "- Implemente as funções de soma e multiplicação, nessa função\n"
   ]
  },
  {
   "cell_type": "code",
   "execution_count": 8,
   "metadata": {},
   "outputs": [],
   "source": [
    "# def operMat(num1, num2, operac):\n",
    "#     if operac == \"soma\":\n",
    "#         return num1 + num2\n",
    "#     elif operac == \"subtracao\":\n",
    "#         pass\n",
    "#     elif operac == \"multiplicacao\":\n",
    "#         return num1 * num2\n",
    "#     elif operac == \"divisao\":\n",
    "#         pass\n",
    "\n",
    "#é possivel estabelecer valor paradrão para o argumento caso ele não seja passado.\n",
    "\n",
    "#codigo transformado em citação para não conflitar com o codigo abaixo"
   ]
  },
  {
   "attachments": {},
   "cell_type": "markdown",
   "metadata": {},
   "source": [
    "- Modifique a função para que receba uma quantidade de argumentos não previsível e os imprima na tela\n"
   ]
  },
  {
   "cell_type": "code",
   "execution_count": 15,
   "metadata": {},
   "outputs": [],
   "source": [
    "def operMat(*numeros, **textos):\n",
    "    return numeros, textos\n",
    "# * = \"Tudo que não foi nomeado vira uma tupla\".\n",
    "# ** = \"Tudo que foi nomeado (chave=valor) vira um dicionário\"."
   ]
  },
  {
   "cell_type": "code",
   "execution_count": 13,
   "metadata": {},
   "outputs": [
    {
     "data": {
      "text/plain": [
       "((2, 7, 4, 5, 8, 9), {'opercao': 'soma', 'pet': 'cato'})"
      ]
     },
     "execution_count": 13,
     "metadata": {},
     "output_type": "execute_result"
    }
   ],
   "source": [
    "operMat (2, 7, 4, 5, 8, 9, opercao='soma', pet='cato')"
   ]
  },
  {
   "attachments": {},
   "cell_type": "markdown",
   "metadata": {},
   "source": [
    "- Use a biblioteca math para otimizar a função\n"
   ]
  },
  {
   "cell_type": "code",
   "execution_count": 17,
   "metadata": {},
   "outputs": [],
   "source": [
    "import math\n",
    "\n",
    "def operMat(*args, **kwargs):\n",
    "    for argumentos, valor in kwargs.items():\n",
    "        if argumentos == 'operacao' and valor == 'soma':\n",
    "            return sum(args)\n",
    "        elif argumentos == 'operacao' and valor == 'subtracao':\n",
    "            pass\n",
    "        elif argumentos == 'operacao' and valor == 'multiplicacao':\n",
    "            return math.prod(args) \n",
    "        elif argumentos == 'operacao' and valor == 'divisao':\n",
    "            pass"
   ]
  },
  {
   "cell_type": "code",
   "execution_count": 19,
   "metadata": {},
   "outputs": [
    {
     "data": {
      "text/plain": [
       "129600"
      ]
     },
     "execution_count": 19,
     "metadata": {},
     "output_type": "execute_result"
    }
   ],
   "source": [
    "operMat(6, 8, 9, 10, 30, operacao = 'multiplicacao')"
   ]
  },
  {
   "attachments": {},
   "cell_type": "markdown",
   "metadata": {},
   "source": [
    "- Escreva uma função do tipo lambda"
   ]
  },
  {
   "cell_type": "code",
   "execution_count": 20,
   "metadata": {},
   "outputs": [],
   "source": [
    "multiplica = lambda x, y: print (x * y)"
   ]
  },
  {
   "cell_type": "code",
   "execution_count": 21,
   "metadata": {},
   "outputs": [
    {
     "name": "stdout",
     "output_type": "stream",
     "text": [
      "63\n"
     ]
    }
   ],
   "source": [
    "multiplica (7, 9)"
   ]
  }
 ],
 "metadata": {
  "kernelspec": {
   "display_name": "Python 3",
   "language": "python",
   "name": "python3"
  },
  "language_info": {
   "codemirror_mode": {
    "name": "ipython",
    "version": 3
   },
   "file_extension": ".py",
   "mimetype": "text/x-python",
   "name": "python",
   "nbconvert_exporter": "python",
   "pygments_lexer": "ipython3",
   "version": "3.13.3"
  },
  "orig_nbformat": 4,
  "vscode": {
   "interpreter": {
    "hash": "916dbcbb3f70747c44a77c7bcd40155683ae19c65e1c03b4aa3499c5328201f1"
   }
  }
 },
 "nbformat": 4,
 "nbformat_minor": 2
}
