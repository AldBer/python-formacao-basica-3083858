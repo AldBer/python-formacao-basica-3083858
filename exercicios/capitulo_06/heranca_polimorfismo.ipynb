{
 "cells": [
  {
   "cell_type": "code",
   "execution_count": 31,
   "metadata": {},
   "outputs": [],
   "source": [
    "class Biker:\n",
    "\n",
    "    def __init__(self, **kwargs):\n",
    "        self._tipo = kwargs['tipo']\n",
    "        self._estilo = kwargs['estilo'] if 'estilo' in kwargs else 'Montain'\n",
    "        self._marca = kwargs['marca']\n",
    "        self._tamanho = kwargs['tamanho']\n",
    "    \n",
    "    def getMarca(self):\n",
    "        return self._marca\n",
    "    \n",
    "    def getIdade(self):\n",
    "        return self._idade\n",
    "    \n",
    "    def setMarca(self, novaMarca = 'specialized'):\n",
    "        if novaMarca:\n",
    "            self._marca = novaMarca\n",
    "        return self._marca\n",
    "    def sentido(self):\n",
    "        return f'{self._marca} é uma bike incrivel'"
   ]
  },
  {
   "attachments": {},
   "cell_type": "markdown",
   "metadata": {},
   "source": [
    "1. Crie uma subclasse usando a classe acima\n",
    "1. Extenda o método __init__ e adicione um valor padrão para a variável _idade\n",
    "1. Modifique o comportamento do método som()   "
   ]
  },
  {
   "cell_type": "code",
   "execution_count": 32,
   "metadata": {},
   "outputs": [],
   "source": [
    "class ProBiker(Biker):\n",
    "    def __init__(self, **kwargs):\n",
    "        super().__init__(**kwargs)\n",
    "        self._idade = kwargs['idade'] if 'idade' in kwargs else 0\n",
    "\n",
    "    def sentido(self):\n",
    "        return f'{self._marca} é uma bike excepcional'"
   ]
  },
  {
   "cell_type": "code",
   "execution_count": 33,
   "metadata": {},
   "outputs": [],
   "source": [
    "minha_bike = Biker(tipo='amador', marca='Trek', tamanho=19)"
   ]
  },
  {
   "cell_type": "code",
   "execution_count": 34,
   "metadata": {},
   "outputs": [],
   "source": [
    "meu_amor_bike = ProBiker(tipo='profissional', marca='Cervelo', tamanho=18)"
   ]
  },
  {
   "cell_type": "code",
   "execution_count": 35,
   "metadata": {},
   "outputs": [
    {
     "data": {
      "text/plain": [
       "'Cervelo'"
      ]
     },
     "execution_count": 35,
     "metadata": {},
     "output_type": "execute_result"
    }
   ],
   "source": [
    "meu_amor_bike.getMarca()"
   ]
  },
  {
   "cell_type": "code",
   "execution_count": 36,
   "metadata": {},
   "outputs": [
    {
     "data": {
      "text/plain": [
       "'Trek'"
      ]
     },
     "execution_count": 36,
     "metadata": {},
     "output_type": "execute_result"
    }
   ],
   "source": [
    "minha_bike.getMarca()"
   ]
  },
  {
   "attachments": {},
   "cell_type": "markdown",
   "metadata": {},
   "source": [
    "- Instancie um objeto usando a nova classe e imprima na tela nome, idade e som"
   ]
  },
  {
   "cell_type": "code",
   "execution_count": 37,
   "metadata": {},
   "outputs": [
    {
     "data": {
      "text/plain": [
       "'Trek é uma bike incrivel'"
      ]
     },
     "execution_count": 37,
     "metadata": {},
     "output_type": "execute_result"
    }
   ],
   "source": [
    "minha_bike.sentido()"
   ]
  },
  {
   "cell_type": "code",
   "execution_count": 38,
   "metadata": {},
   "outputs": [
    {
     "data": {
      "text/plain": [
       "'Cervelo é uma bike excepcional'"
      ]
     },
     "execution_count": 38,
     "metadata": {},
     "output_type": "execute_result"
    }
   ],
   "source": [
    "meu_amor_bike.sentido()"
   ]
  }
 ],
 "metadata": {
  "kernelspec": {
   "display_name": "Python 3",
   "language": "python",
   "name": "python3"
  },
  "language_info": {
   "codemirror_mode": {
    "name": "ipython",
    "version": 3
   },
   "file_extension": ".py",
   "mimetype": "text/x-python",
   "name": "python",
   "nbconvert_exporter": "python",
   "pygments_lexer": "ipython3",
   "version": "3.13.3"
  },
  "orig_nbformat": 4,
  "vscode": {
   "interpreter": {
    "hash": "916dbcbb3f70747c44a77c7bcd40155683ae19c65e1c03b4aa3499c5328201f1"
   }
  }
 },
 "nbformat": 4,
 "nbformat_minor": 2
}
