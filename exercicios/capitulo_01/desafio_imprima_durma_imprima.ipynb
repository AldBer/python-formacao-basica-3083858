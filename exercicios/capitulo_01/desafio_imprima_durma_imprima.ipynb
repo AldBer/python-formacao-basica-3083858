{
 "cells": [
  {
   "cell_type": "markdown",
   "metadata": {},
   "source": [
    "1. Importe o módulo \"time\"\n",
    "1. Imprima na tela \"Olá, mundo!\"\n",
    "1. Insira a função \"time.sleep\" e passe como argumento 2\n",
    "1. Imprima na tela \"Agora sou uma pessoa programadora Python.\" e \"Aguarde 4.5 segundos\"\n",
    "1. Insira a função \"time.sleep\" e passe como argumento 4.5\n",
    "1. Imprima na tela \"Última linha do programa.\""
   ]
  },
  {
   "cell_type": "code",
   "execution_count": 3,
   "metadata": {},
   "outputs": [],
   "source": [
    "import time"
   ]
  },
  {
   "cell_type": "code",
   "execution_count": null,
   "metadata": {},
   "outputs": [
    {
     "name": "stdout",
     "output_type": "stream",
     "text": [
      "Olá mundo\n",
      "Agora sou uma pessoa programadora Python\n",
      "Aguarde 4.5 segundos\n",
      "Ultima linah do programa\n"
     ]
    }
   ],
   "source": [
    "print('Olá mundo')\n",
    "time.sleep(2)\n",
    "print('Agora sou uma pessoa programadora Python')\n",
    "print('Aguarde 4.5 segundos')\n",
    "time.sleep(4.5)\n",
    "print('Ultima linha do programa')"
   ]
  },
  {
   "cell_type": "code",
   "execution_count": null,
   "metadata": {},
   "outputs": [],
   "source": []
  }
 ],
 "metadata": {
  "kernelspec": {
   "display_name": "Python 3",
   "language": "python",
   "name": "python3"
  },
  "language_info": {
   "codemirror_mode": {
    "name": "ipython",
    "version": 3
   },
   "file_extension": ".py",
   "mimetype": "text/x-python",
   "name": "python",
   "nbconvert_exporter": "python",
   "pygments_lexer": "ipython3",
   "version": "3.13.3"
  },
  "orig_nbformat": 4
 },
 "nbformat": 4,
 "nbformat_minor": 2
}
