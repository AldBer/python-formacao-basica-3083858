{
 "cells": [
  {
   "attachments": {},
   "cell_type": "markdown",
   "metadata": {},
   "source": [
    "- Crie tratamento para as exceções: ZeroDivisionError e TypeError usando a sintaxe try...except...finally\n"
   ]
  },
  {
   "cell_type": "code",
   "execution_count": 57,
   "metadata": {},
   "outputs": [],
   "source": [
    "from random import random, randrange"
   ]
  },
  {
   "cell_type": "code",
   "execution_count": 58,
   "metadata": {},
   "outputs": [
    {
     "data": {
      "text/plain": [
       "0.23425009196137103"
      ]
     },
     "execution_count": 58,
     "metadata": {},
     "output_type": "execute_result"
    }
   ],
   "source": [
    "x = random() #random executa um numero float qualquer, menor que 1.\n",
    "x"
   ]
  },
  {
   "cell_type": "code",
   "execution_count": 59,
   "metadata": {},
   "outputs": [
    {
     "data": {
      "text/plain": [
       "17"
      ]
     },
     "execution_count": 59,
     "metadata": {},
     "output_type": "execute_result"
    }
   ],
   "source": [
    "y = randrange (30)  #a biblioteca randrange executa um numero qualquer dentro de um tamanho sujerido.\n",
    "y"
   ]
  },
  {
   "cell_type": "code",
   "execution_count": 60,
   "metadata": {},
   "outputs": [
    {
     "name": "stdout",
     "output_type": "stream",
     "text": [
      "0.23425009196137103\n",
      "17\n"
     ]
    }
   ],
   "source": [
    "print(x)\n",
    "print(y)"
   ]
  },
  {
   "cell_type": "code",
   "execution_count": 61,
   "metadata": {},
   "outputs": [
    {
     "name": "stdout",
     "output_type": "stream",
     "text": [
      "Mensagem automatica de erro genérico\n",
      "FIM\n"
     ]
    }
   ],
   "source": [
    "try:\n",
    "    x = randm()/ 0\n",
    "    print(x)\n",
    "\n",
    "except ZeroDivisionError:\n",
    "    print('Nenhum numero é divisivel por zero.')\n",
    "    y = randrange(10)\n",
    "    print(f'Vamos dividir o numero desejado por {y}.')\n",
    "    x = random() / y\n",
    "    print(f'Aqui está o resultado {x}.')\n",
    "\n",
    "except TypeError:\n",
    "    print('Existe um erro de tipo. Talvez voce esteja tentando aplicar um método não suportado por tipo de dados numericos')\n",
    "\n",
    "except Exception:\n",
    "    print('Mensagem automatica de erro genérico')\n",
    "\n",
    "finally:\n",
    "    print('FIM')"
   ]
  },
  {
   "cell_type": "code",
   "execution_count": 62,
   "metadata": {},
   "outputs": [
    {
     "name": "stdout",
     "output_type": "stream",
     "text": [
      "Existe um erro de tipo. Talvez voce esteja tentando aplicar um método não suportado por tipo de dados numericos\n",
      "FIM\n"
     ]
    }
   ],
   "source": [
    "try:\n",
    "    x = random()/'a'\n",
    "    print(x)\n",
    "\n",
    "except ZeroDivisionError:\n",
    "    print('Nenhum numero é divisivel por zero.')\n",
    "    y = randrange(10)\n",
    "    print(f'Vamos dividir o numero desejado por {y}.')\n",
    "    x = random() / y\n",
    "    print(f'Aqui está o resultado {x}.')\n",
    "\n",
    "except TypeError:\n",
    "    print('Existe um erro de tipo. Talvez voce esteja tentando aplicar um método não suportado por tipo de dados numericos')\n",
    "\n",
    "except Exception:\n",
    "    print('Mensagem automatica de erro genérico')\n",
    "\n",
    "finally:\n",
    "    print('FIM')"
   ]
  }
 ],
 "metadata": {
  "kernelspec": {
   "display_name": "Python 3",
   "language": "python",
   "name": "python3"
  },
  "language_info": {
   "codemirror_mode": {
    "name": "ipython",
    "version": 3
   },
   "file_extension": ".py",
   "mimetype": "text/x-python",
   "name": "python",
   "nbconvert_exporter": "python",
   "pygments_lexer": "ipython3",
   "version": "3.13.3"
  },
  "orig_nbformat": 4,
  "vscode": {
   "interpreter": {
    "hash": "916dbcbb3f70747c44a77c7bcd40155683ae19c65e1c03b4aa3499c5328201f1"
   }
  }
 },
 "nbformat": 4,
 "nbformat_minor": 2
}
