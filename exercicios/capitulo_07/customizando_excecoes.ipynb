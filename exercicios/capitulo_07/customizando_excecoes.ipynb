{
 "cells": [
  {
   "attachments": {},
   "cell_type": "markdown",
   "metadata": {},
   "source": [
    "- Imagine que você está criando um servidor web e customize exceções para o código\n"
   ]
  },
  {
   "cell_type": "code",
   "execution_count": 6,
   "metadata": {},
   "outputs": [],
   "source": [
    "class HttpException(Exception):\n",
    "    codigo_status = None\n",
    "    mensagem = None\n",
    "\n",
    "    def __init__(self):\n",
    "        super().__init__(f'Codigo do status: {self.codigo_status}. Mensagem: {self.mensagem}')\n",
    "\n",
    "\n",
    "class Unauthorized(HttpException):\n",
    "    codigo_status = 401\n",
    "    mensagem = 'Acesso não autorizado'\n",
    "\n",
    "class BadGateway(HttpException):\n",
    "    codigo_status = 502\n",
    "    mensagem = 'Esse servidor é um gateway ou servidor proxy, que não estpa recevendo resposta valida dos servidores back-end.'\n"
   ]
  },
  {
   "attachments": {},
   "cell_type": "markdown",
   "metadata": {},
   "source": [
    "- Simule a aplicação de uma exceção customizada no código"
   ]
  },
  {
   "cell_type": "code",
   "execution_count": 7,
   "metadata": {},
   "outputs": [],
   "source": [
    "def raiseUnauthorizedError():\n",
    "    raise Unauthorized()\n"
   ]
  }
 ],
 "metadata": {
  "kernelspec": {
   "display_name": "Python 3",
   "language": "python",
   "name": "python3"
  },
  "language_info": {
   "codemirror_mode": {
    "name": "ipython",
    "version": 3
   },
   "file_extension": ".py",
   "mimetype": "text/x-python",
   "name": "python",
   "nbconvert_exporter": "python",
   "pygments_lexer": "ipython3",
   "version": "3.13.3"
  },
  "orig_nbformat": 4,
  "vscode": {
   "interpreter": {
    "hash": "916dbcbb3f70747c44a77c7bcd40155683ae19c65e1c03b4aa3499c5328201f1"
   }
  }
 },
 "nbformat": 4,
 "nbformat_minor": 2
}
